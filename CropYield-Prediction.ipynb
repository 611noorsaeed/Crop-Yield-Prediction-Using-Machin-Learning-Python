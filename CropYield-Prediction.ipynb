{
 "cells": [
  {
   "cell_type": "code",
   "execution_count": 2,
   "id": "9fa4a2d9",
   "metadata": {},
   "outputs": [],
   "source": [
    "import numpy as np # linear algebra\n",
    "import pandas as pd # data processing, CSV file I/O (e.g. pd.read_csv)\n",
    "import seaborn as sns\n",
    "import matplotlib.pyplot as plt"
   ]
  },
  {
   "cell_type": "code",
   "execution_count": 3,
   "id": "9242f471",
   "metadata": {},
   "outputs": [],
   "source": [
    "df = pd.read_csv('yield_df.csv')"
   ]
  },
  {
   "cell_type": "code",
   "execution_count": 4,
   "id": "15598ff1",
   "metadata": {},
   "outputs": [
    {
     "data": {
      "text/html": [
       "<div>\n",
       "<style scoped>\n",
       "    .dataframe tbody tr th:only-of-type {\n",
       "        vertical-align: middle;\n",
       "    }\n",
       "\n",
       "    .dataframe tbody tr th {\n",
       "        vertical-align: top;\n",
       "    }\n",
       "\n",
       "    .dataframe thead th {\n",
       "        text-align: right;\n",
       "    }\n",
       "</style>\n",
       "<table border=\"1\" class=\"dataframe\">\n",
       "  <thead>\n",
       "    <tr style=\"text-align: right;\">\n",
       "      <th></th>\n",
       "      <th>Unnamed: 0</th>\n",
       "      <th>Area</th>\n",
       "      <th>Item</th>\n",
       "      <th>Year</th>\n",
       "      <th>hg/ha_yield</th>\n",
       "      <th>average_rain_fall_mm_per_year</th>\n",
       "      <th>pesticides_tonnes</th>\n",
       "      <th>avg_temp</th>\n",
       "    </tr>\n",
       "  </thead>\n",
       "  <tbody>\n",
       "    <tr>\n",
       "      <th>0</th>\n",
       "      <td>0</td>\n",
       "      <td>Albania</td>\n",
       "      <td>Maize</td>\n",
       "      <td>1990</td>\n",
       "      <td>36613</td>\n",
       "      <td>1485.0</td>\n",
       "      <td>121.0</td>\n",
       "      <td>16.37</td>\n",
       "    </tr>\n",
       "    <tr>\n",
       "      <th>1</th>\n",
       "      <td>1</td>\n",
       "      <td>Albania</td>\n",
       "      <td>Potatoes</td>\n",
       "      <td>1990</td>\n",
       "      <td>66667</td>\n",
       "      <td>1485.0</td>\n",
       "      <td>121.0</td>\n",
       "      <td>16.37</td>\n",
       "    </tr>\n",
       "    <tr>\n",
       "      <th>2</th>\n",
       "      <td>2</td>\n",
       "      <td>Albania</td>\n",
       "      <td>Rice, paddy</td>\n",
       "      <td>1990</td>\n",
       "      <td>23333</td>\n",
       "      <td>1485.0</td>\n",
       "      <td>121.0</td>\n",
       "      <td>16.37</td>\n",
       "    </tr>\n",
       "    <tr>\n",
       "      <th>3</th>\n",
       "      <td>3</td>\n",
       "      <td>Albania</td>\n",
       "      <td>Sorghum</td>\n",
       "      <td>1990</td>\n",
       "      <td>12500</td>\n",
       "      <td>1485.0</td>\n",
       "      <td>121.0</td>\n",
       "      <td>16.37</td>\n",
       "    </tr>\n",
       "    <tr>\n",
       "      <th>4</th>\n",
       "      <td>4</td>\n",
       "      <td>Albania</td>\n",
       "      <td>Soybeans</td>\n",
       "      <td>1990</td>\n",
       "      <td>7000</td>\n",
       "      <td>1485.0</td>\n",
       "      <td>121.0</td>\n",
       "      <td>16.37</td>\n",
       "    </tr>\n",
       "  </tbody>\n",
       "</table>\n",
       "</div>"
      ],
      "text/plain": [
       "   Unnamed: 0     Area         Item  Year  hg/ha_yield  \\\n",
       "0           0  Albania        Maize  1990        36613   \n",
       "1           1  Albania     Potatoes  1990        66667   \n",
       "2           2  Albania  Rice, paddy  1990        23333   \n",
       "3           3  Albania      Sorghum  1990        12500   \n",
       "4           4  Albania     Soybeans  1990         7000   \n",
       "\n",
       "   average_rain_fall_mm_per_year  pesticides_tonnes  avg_temp  \n",
       "0                         1485.0              121.0     16.37  \n",
       "1                         1485.0              121.0     16.37  \n",
       "2                         1485.0              121.0     16.37  \n",
       "3                         1485.0              121.0     16.37  \n",
       "4                         1485.0              121.0     16.37  "
      ]
     },
     "execution_count": 4,
     "metadata": {},
     "output_type": "execute_result"
    }
   ],
   "source": [
    "df.head()"
   ]
  },
  {
   "cell_type": "code",
   "execution_count": 5,
   "id": "b1c9faf6",
   "metadata": {},
   "outputs": [],
   "source": [
    "df.drop('Unnamed: 0',axis=1,inplace=True)"
   ]
  },
  {
   "cell_type": "code",
   "execution_count": 6,
   "id": "095385cb",
   "metadata": {},
   "outputs": [
    {
     "data": {
      "text/plain": [
       "(28242, 7)"
      ]
     },
     "execution_count": 6,
     "metadata": {},
     "output_type": "execute_result"
    }
   ],
   "source": [
    "df.shape"
   ]
  },
  {
   "cell_type": "code",
   "execution_count": 7,
   "id": "8fc38854",
   "metadata": {},
   "outputs": [
    {
     "name": "stdout",
     "output_type": "stream",
     "text": [
      "<class 'pandas.core.frame.DataFrame'>\n",
      "RangeIndex: 28242 entries, 0 to 28241\n",
      "Data columns (total 7 columns):\n",
      " #   Column                         Non-Null Count  Dtype  \n",
      "---  ------                         --------------  -----  \n",
      " 0   Area                           28242 non-null  object \n",
      " 1   Item                           28242 non-null  object \n",
      " 2   Year                           28242 non-null  int64  \n",
      " 3   hg/ha_yield                    28242 non-null  int64  \n",
      " 4   average_rain_fall_mm_per_year  28242 non-null  float64\n",
      " 5   pesticides_tonnes              28242 non-null  float64\n",
      " 6   avg_temp                       28242 non-null  float64\n",
      "dtypes: float64(3), int64(2), object(2)\n",
      "memory usage: 1.5+ MB\n"
     ]
    }
   ],
   "source": [
    "df.info()"
   ]
  },
  {
   "cell_type": "code",
   "execution_count": 8,
   "id": "6c783842",
   "metadata": {},
   "outputs": [
    {
     "data": {
      "text/plain": [
       "Area                             0\n",
       "Item                             0\n",
       "Year                             0\n",
       "hg/ha_yield                      0\n",
       "average_rain_fall_mm_per_year    0\n",
       "pesticides_tonnes                0\n",
       "avg_temp                         0\n",
       "dtype: int64"
      ]
     },
     "execution_count": 8,
     "metadata": {},
     "output_type": "execute_result"
    }
   ],
   "source": [
    "df.isnull().sum()"
   ]
  },
  {
   "cell_type": "code",
   "execution_count": 9,
   "id": "23aceb14",
   "metadata": {},
   "outputs": [
    {
     "data": {
      "text/plain": [
       "2310"
      ]
     },
     "execution_count": 9,
     "metadata": {},
     "output_type": "execute_result"
    }
   ],
   "source": [
    "df.duplicated().sum()"
   ]
  },
  {
   "cell_type": "code",
   "execution_count": 10,
   "id": "2a338e28",
   "metadata": {},
   "outputs": [],
   "source": [
    "df.drop_duplicates(inplace=True)"
   ]
  },
  {
   "cell_type": "code",
   "execution_count": 11,
   "id": "be00c059",
   "metadata": {},
   "outputs": [
    {
     "data": {
      "text/plain": [
       "0"
      ]
     },
     "execution_count": 11,
     "metadata": {},
     "output_type": "execute_result"
    }
   ],
   "source": [
    "df.duplicated().sum()"
   ]
  },
  {
   "cell_type": "markdown",
   "id": "da03e5eb",
   "metadata": {},
   "source": [
    "# Transforming average_rain_fall_mm_per_year\n",
    "In summary, this code identifies the indices of rows in the DataFrame df where the values in the column 'average_rain_fall_mm_per_year' are not numeric strings. These rows can be considered for removal or further processing, depending on the specific use case."
   ]
  },
  {
   "cell_type": "code",
   "execution_count": 12,
   "id": "20c05e7c",
   "metadata": {},
   "outputs": [],
   "source": [
    "def isStr(obj):\n",
    "    try:\n",
    "        float(obj)\n",
    "        return False\n",
    "    except:\n",
    "        return True\n",
    "to_drop = df[df['average_rain_fall_mm_per_year'].apply(isStr)].index"
   ]
  },
  {
   "cell_type": "code",
   "execution_count": 13,
   "id": "0961c97b",
   "metadata": {},
   "outputs": [],
   "source": [
    "df = df.drop(to_drop)"
   ]
  },
  {
   "cell_type": "code",
   "execution_count": 14,
   "id": "1f7f6e47",
   "metadata": {},
   "outputs": [
    {
     "data": {
      "text/html": [
       "<div>\n",
       "<style scoped>\n",
       "    .dataframe tbody tr th:only-of-type {\n",
       "        vertical-align: middle;\n",
       "    }\n",
       "\n",
       "    .dataframe tbody tr th {\n",
       "        vertical-align: top;\n",
       "    }\n",
       "\n",
       "    .dataframe thead th {\n",
       "        text-align: right;\n",
       "    }\n",
       "</style>\n",
       "<table border=\"1\" class=\"dataframe\">\n",
       "  <thead>\n",
       "    <tr style=\"text-align: right;\">\n",
       "      <th></th>\n",
       "      <th>Area</th>\n",
       "      <th>Item</th>\n",
       "      <th>Year</th>\n",
       "      <th>hg/ha_yield</th>\n",
       "      <th>average_rain_fall_mm_per_year</th>\n",
       "      <th>pesticides_tonnes</th>\n",
       "      <th>avg_temp</th>\n",
       "    </tr>\n",
       "  </thead>\n",
       "  <tbody>\n",
       "    <tr>\n",
       "      <th>0</th>\n",
       "      <td>Albania</td>\n",
       "      <td>Maize</td>\n",
       "      <td>1990</td>\n",
       "      <td>36613</td>\n",
       "      <td>1485.0</td>\n",
       "      <td>121.00</td>\n",
       "      <td>16.37</td>\n",
       "    </tr>\n",
       "    <tr>\n",
       "      <th>1</th>\n",
       "      <td>Albania</td>\n",
       "      <td>Potatoes</td>\n",
       "      <td>1990</td>\n",
       "      <td>66667</td>\n",
       "      <td>1485.0</td>\n",
       "      <td>121.00</td>\n",
       "      <td>16.37</td>\n",
       "    </tr>\n",
       "    <tr>\n",
       "      <th>2</th>\n",
       "      <td>Albania</td>\n",
       "      <td>Rice, paddy</td>\n",
       "      <td>1990</td>\n",
       "      <td>23333</td>\n",
       "      <td>1485.0</td>\n",
       "      <td>121.00</td>\n",
       "      <td>16.37</td>\n",
       "    </tr>\n",
       "    <tr>\n",
       "      <th>3</th>\n",
       "      <td>Albania</td>\n",
       "      <td>Sorghum</td>\n",
       "      <td>1990</td>\n",
       "      <td>12500</td>\n",
       "      <td>1485.0</td>\n",
       "      <td>121.00</td>\n",
       "      <td>16.37</td>\n",
       "    </tr>\n",
       "    <tr>\n",
       "      <th>4</th>\n",
       "      <td>Albania</td>\n",
       "      <td>Soybeans</td>\n",
       "      <td>1990</td>\n",
       "      <td>7000</td>\n",
       "      <td>1485.0</td>\n",
       "      <td>121.00</td>\n",
       "      <td>16.37</td>\n",
       "    </tr>\n",
       "    <tr>\n",
       "      <th>...</th>\n",
       "      <td>...</td>\n",
       "      <td>...</td>\n",
       "      <td>...</td>\n",
       "      <td>...</td>\n",
       "      <td>...</td>\n",
       "      <td>...</td>\n",
       "      <td>...</td>\n",
       "    </tr>\n",
       "    <tr>\n",
       "      <th>28237</th>\n",
       "      <td>Zimbabwe</td>\n",
       "      <td>Rice, paddy</td>\n",
       "      <td>2013</td>\n",
       "      <td>22581</td>\n",
       "      <td>657.0</td>\n",
       "      <td>2550.07</td>\n",
       "      <td>19.76</td>\n",
       "    </tr>\n",
       "    <tr>\n",
       "      <th>28238</th>\n",
       "      <td>Zimbabwe</td>\n",
       "      <td>Sorghum</td>\n",
       "      <td>2013</td>\n",
       "      <td>3066</td>\n",
       "      <td>657.0</td>\n",
       "      <td>2550.07</td>\n",
       "      <td>19.76</td>\n",
       "    </tr>\n",
       "    <tr>\n",
       "      <th>28239</th>\n",
       "      <td>Zimbabwe</td>\n",
       "      <td>Soybeans</td>\n",
       "      <td>2013</td>\n",
       "      <td>13142</td>\n",
       "      <td>657.0</td>\n",
       "      <td>2550.07</td>\n",
       "      <td>19.76</td>\n",
       "    </tr>\n",
       "    <tr>\n",
       "      <th>28240</th>\n",
       "      <td>Zimbabwe</td>\n",
       "      <td>Sweet potatoes</td>\n",
       "      <td>2013</td>\n",
       "      <td>22222</td>\n",
       "      <td>657.0</td>\n",
       "      <td>2550.07</td>\n",
       "      <td>19.76</td>\n",
       "    </tr>\n",
       "    <tr>\n",
       "      <th>28241</th>\n",
       "      <td>Zimbabwe</td>\n",
       "      <td>Wheat</td>\n",
       "      <td>2013</td>\n",
       "      <td>22888</td>\n",
       "      <td>657.0</td>\n",
       "      <td>2550.07</td>\n",
       "      <td>19.76</td>\n",
       "    </tr>\n",
       "  </tbody>\n",
       "</table>\n",
       "<p>25932 rows × 7 columns</p>\n",
       "</div>"
      ],
      "text/plain": [
       "           Area            Item  Year  hg/ha_yield  \\\n",
       "0       Albania           Maize  1990        36613   \n",
       "1       Albania        Potatoes  1990        66667   \n",
       "2       Albania     Rice, paddy  1990        23333   \n",
       "3       Albania         Sorghum  1990        12500   \n",
       "4       Albania        Soybeans  1990         7000   \n",
       "...         ...             ...   ...          ...   \n",
       "28237  Zimbabwe     Rice, paddy  2013        22581   \n",
       "28238  Zimbabwe         Sorghum  2013         3066   \n",
       "28239  Zimbabwe        Soybeans  2013        13142   \n",
       "28240  Zimbabwe  Sweet potatoes  2013        22222   \n",
       "28241  Zimbabwe           Wheat  2013        22888   \n",
       "\n",
       "       average_rain_fall_mm_per_year  pesticides_tonnes  avg_temp  \n",
       "0                             1485.0             121.00     16.37  \n",
       "1                             1485.0             121.00     16.37  \n",
       "2                             1485.0             121.00     16.37  \n",
       "3                             1485.0             121.00     16.37  \n",
       "4                             1485.0             121.00     16.37  \n",
       "...                              ...                ...       ...  \n",
       "28237                          657.0            2550.07     19.76  \n",
       "28238                          657.0            2550.07     19.76  \n",
       "28239                          657.0            2550.07     19.76  \n",
       "28240                          657.0            2550.07     19.76  \n",
       "28241                          657.0            2550.07     19.76  \n",
       "\n",
       "[25932 rows x 7 columns]"
      ]
     },
     "execution_count": 14,
     "metadata": {},
     "output_type": "execute_result"
    }
   ],
   "source": [
    "df"
   ]
  },
  {
   "cell_type": "code",
   "execution_count": 15,
   "id": "5cba58d1",
   "metadata": {},
   "outputs": [],
   "source": [
    "df['average_rain_fall_mm_per_year'] = df['average_rain_fall_mm_per_year'].astype(np.float64)"
   ]
  },
  {
   "cell_type": "markdown",
   "id": "8a70abca",
   "metadata": {},
   "source": [
    "# Graph Frequency vs Area"
   ]
  },
  {
   "cell_type": "code",
   "execution_count": 16,
   "id": "22552bb4",
   "metadata": {},
   "outputs": [
    {
     "data": {
      "text/plain": [
       "101"
      ]
     },
     "execution_count": 16,
     "metadata": {},
     "output_type": "execute_result"
    }
   ],
   "source": [
    "len(df['Area'].unique())"
   ]
  },
  {
   "cell_type": "code",
   "execution_count": 17,
   "id": "24920e37",
   "metadata": {},
   "outputs": [
    {
     "data": {
      "image/png": "[encoded data removed]",
      "text/plain": [
       "<Figure size 1080x1440 with 1 Axes>"
      ]
     },
     "metadata": {
      "needs_background": "light"
     },
     "output_type": "display_data"
    }
   ],
   "source": [
    "plt.figure(figsize=(15,20))\n",
    "sns.countplot(y=df['Area'])\n",
    "plt.show()"
   ]
  },
  {
   "cell_type": "code",
   "execution_count": 18,
   "id": "ee6ea65e",
   "metadata": {},
   "outputs": [
    {
     "data": {
      "text/plain": [
       "91"
      ]
     },
     "execution_count": 18,
     "metadata": {},
     "output_type": "execute_result"
    }
   ],
   "source": [
    "(df['Area'].value_counts() < 500).sum()"
   ]
  },
  {
   "cell_type": "markdown",
   "id": "4a14aa73",
   "metadata": {},
   "source": [
    "# yield_per_country"
   ]
  },
  {
   "cell_type": "code",
   "execution_count": 19,
   "id": "184e3df3",
   "metadata": {},
   "outputs": [],
   "source": [
    "country = df['Area'].unique()\n",
    "yield_per_country = []\n",
    "for state in country:\n",
    "    yield_per_country.append(df[df['Area']==state]['hg/ha_yield'].sum())\n"
   ]
  },
  {
   "cell_type": "code",
   "execution_count": 20,
   "id": "7a4f7472",
   "metadata": {},
   "outputs": [
    {
     "data": {
      "text/plain": [
       "1996196943"
      ]
     },
     "execution_count": 20,
     "metadata": {},
     "output_type": "execute_result"
    }
   ],
   "source": [
    "df['hg/ha_yield'].sum()"
   ]
  },
  {
   "cell_type": "code",
   "execution_count": 21,
   "id": "54b49352",
   "metadata": {},
   "outputs": [
    {
     "data": {
      "text/plain": [
       "[5711536,\n",
       " 6711464,\n",
       " 5722563,\n",
       " 32864032,\n",
       " 4524100,\n",
       " 109111062,\n",
       " 10852258,\n",
       " 4608380,\n",
       " 4384717,\n",
       " 4443889,\n",
       " 7720159,\n",
       " 4704812,\n",
       " 8442270,\n",
       " 470651,\n",
       " 136340329,\n",
       " 6263075,\n",
       " 6083337,\n",
       " 7031146,\n",
       " 10717883,\n",
       " 34706922,\n",
       " 4255627,\n",
       " 20561214,\n",
       " 26927138,\n",
       " 6083167,\n",
       " 10701651,\n",
       " 25312166,\n",
       " 21315591,\n",
       " 36828848,\n",
       " 16855944,\n",
       " 1452416,\n",
       " 3595638,\n",
       " 6210668,\n",
       " 15790618,\n",
       " 38780463,\n",
       " 9260371,\n",
       " 14571925,\n",
       " 16508723,\n",
       " 7975743,\n",
       " 8361103,\n",
       " 8619194,\n",
       " 10920131,\n",
       " 8824110,\n",
       " 274219558,\n",
       " 68067328,\n",
       " 10984722,\n",
       " 9104030,\n",
       " 32280700,\n",
       " 19698007,\n",
       " 100924145,\n",
       " 9965212,\n",
       " 14391737,\n",
       " 3698588,\n",
       " 6956804,\n",
       " 4258932,\n",
       " 9016288,\n",
       " 4174348,\n",
       " 6103523,\n",
       " 8346715,\n",
       " 7934982,\n",
       " 15106720,\n",
       " 4465841,\n",
       " 12684212,\n",
       " 113698872,\n",
       " 1645100,\n",
       " 22173010,\n",
       " 6964027,\n",
       " 3165475,\n",
       " 4113713,\n",
       " 14086433,\n",
       " 17657728,\n",
       " 12819227,\n",
       " 12316327,\n",
       " 6721305,\n",
       " 49264956,\n",
       " 10729929,\n",
       " 15201910,\n",
       " 6564711,\n",
       " 12154347,\n",
       " 5995626,\n",
       " 6006156,\n",
       " 7741053,\n",
       " 15171886,\n",
       " 10342677,\n",
       " 7197013,\n",
       " 30999849,\n",
       " 46773540,\n",
       " 11217741,\n",
       " 1896346,\n",
       " 14786468,\n",
       " 8620653,\n",
       " 13336346,\n",
       " 6295210,\n",
       " 9511720,\n",
       " 3724246,\n",
       " 52263950,\n",
       " 7494314,\n",
       " 5496901,\n",
       " 44335992,\n",
       " 9539820,\n",
       " 7254311,\n",
       " 7408629]"
      ]
     },
     "execution_count": 21,
     "metadata": {},
     "output_type": "execute_result"
    }
   ],
   "source": [
    "yield_per_country"
   ]
  },
  {
   "cell_type": "markdown",
   "id": "dfd91a62",
   "metadata": {},
   "source": [
    "# Yield Per Country Graph"
   ]
  },
  {
   "cell_type": "code",
   "execution_count": 22,
   "id": "377a0d48",
   "metadata": {},
   "outputs": [
    {
     "data": {
      "text/plain": [
       "<AxesSubplot:>"
      ]
     },
     "execution_count": 22,
     "metadata": {},
     "output_type": "execute_result"
    },
    {
     "data": {
      "image/png": "[encoded data removed]",
      "text/plain": [
       "<Figure size 1080x1440 with 1 Axes>"
      ]
     },
     "metadata": {
      "needs_background": "light"
     },
     "output_type": "display_data"
    }
   ],
   "source": [
    "plt.figure(figsize=(15, 20))\n",
    "sns.barplot(y=country, x=yield_per_country)"
   ]
  },
  {
   "cell_type": "markdown",
   "id": "b2aef419",
   "metadata": {},
   "source": [
    "# Graph Frequency vs Item"
   ]
  },
  {
   "cell_type": "code",
   "execution_count": 23,
   "id": "2410f245",
   "metadata": {},
   "outputs": [
    {
     "data": {
      "text/plain": [
       "<AxesSubplot:xlabel='count', ylabel='Item'>"
      ]
     },
     "execution_count": 23,
     "metadata": {},
     "output_type": "execute_result"
    },
    {
     "data": {
      "image/png": "[encoded data removed]",
      "text/plain": [
       "<Figure size 432x288 with 1 Axes>"
      ]
     },
     "metadata": {
      "needs_background": "light"
     },
     "output_type": "display_data"
    }
   ],
   "source": [
    "sns.countplot(y=df['Item'])"
   ]
  },
  {
   "cell_type": "markdown",
   "id": "a95ad002",
   "metadata": {},
   "source": [
    "# Yield Vs Item"
   ]
  },
  {
   "cell_type": "code",
   "execution_count": 24,
   "id": "c00aae10",
   "metadata": {},
   "outputs": [],
   "source": [
    "crops = df['Item'].unique()\n",
    "yield_per_crop = []\n",
    "for crop in crops:\n",
    "    yield_per_crop.append(df[df['Item']==crop]['hg/ha_yield'].sum())"
   ]
  },
  {
   "cell_type": "code",
   "execution_count": 25,
   "id": "c8492124",
   "metadata": {},
   "outputs": [
    {
     "data": {
      "text/plain": [
       "<AxesSubplot:>"
      ]
     },
     "execution_count": 25,
     "metadata": {},
     "output_type": "execute_result"
    },
    {
     "data": {
      "image/png": "[encoded data removed]",
      "text/plain": [
       "<Figure size 432x288 with 1 Axes>"
      ]
     },
     "metadata": {
      "needs_background": "light"
     },
     "output_type": "display_data"
    }
   ],
   "source": [
    "sns.barplot(y=crops,x=yield_per_crop)"
   ]
  },
  {
   "cell_type": "markdown",
   "id": "02fcc358",
   "metadata": {},
   "source": [
    "# Train Test split Rearranging Columns"
   ]
  },
  {
   "cell_type": "code",
   "execution_count": 26,
   "id": "7ce27222",
   "metadata": {},
   "outputs": [],
   "source": [
    "col = ['Year', 'average_rain_fall_mm_per_year','pesticides_tonnes', 'avg_temp', 'Area', 'Item', 'hg/ha_yield']\n",
    "df = df[col]\n",
    "X = df.iloc[:, :-1]\n",
    "y = df.iloc[:, -1]"
   ]
  },
  {
   "cell_type": "code",
   "execution_count": 27,
   "id": "03b1d597",
   "metadata": {},
   "outputs": [
    {
     "data": {
      "text/html": [
       "<div>\n",
       "<style scoped>\n",
       "    .dataframe tbody tr th:only-of-type {\n",
       "        vertical-align: middle;\n",
       "    }\n",
       "\n",
       "    .dataframe tbody tr th {\n",
       "        vertical-align: top;\n",
       "    }\n",
       "\n",
       "    .dataframe thead th {\n",
       "        text-align: right;\n",
       "    }\n",
       "</style>\n",
       "<table border=\"1\" class=\"dataframe\">\n",
       "  <thead>\n",
       "    <tr style=\"text-align: right;\">\n",
       "      <th></th>\n",
       "      <th>Year</th>\n",
       "      <th>average_rain_fall_mm_per_year</th>\n",
       "      <th>pesticides_tonnes</th>\n",
       "      <th>avg_temp</th>\n",
       "      <th>Area</th>\n",
       "      <th>Item</th>\n",
       "      <th>hg/ha_yield</th>\n",
       "    </tr>\n",
       "  </thead>\n",
       "  <tbody>\n",
       "    <tr>\n",
       "      <th>0</th>\n",
       "      <td>1990</td>\n",
       "      <td>1485.0</td>\n",
       "      <td>121.0</td>\n",
       "      <td>16.37</td>\n",
       "      <td>Albania</td>\n",
       "      <td>Maize</td>\n",
       "      <td>36613</td>\n",
       "    </tr>\n",
       "    <tr>\n",
       "      <th>1</th>\n",
       "      <td>1990</td>\n",
       "      <td>1485.0</td>\n",
       "      <td>121.0</td>\n",
       "      <td>16.37</td>\n",
       "      <td>Albania</td>\n",
       "      <td>Potatoes</td>\n",
       "      <td>66667</td>\n",
       "    </tr>\n",
       "    <tr>\n",
       "      <th>2</th>\n",
       "      <td>1990</td>\n",
       "      <td>1485.0</td>\n",
       "      <td>121.0</td>\n",
       "      <td>16.37</td>\n",
       "      <td>Albania</td>\n",
       "      <td>Rice, paddy</td>\n",
       "      <td>23333</td>\n",
       "    </tr>\n",
       "  </tbody>\n",
       "</table>\n",
       "</div>"
      ],
      "text/plain": [
       "   Year  average_rain_fall_mm_per_year  pesticides_tonnes  avg_temp     Area  \\\n",
       "0  1990                         1485.0              121.0     16.37  Albania   \n",
       "1  1990                         1485.0              121.0     16.37  Albania   \n",
       "2  1990                         1485.0              121.0     16.37  Albania   \n",
       "\n",
       "          Item  hg/ha_yield  \n",
       "0        Maize        36613  \n",
       "1     Potatoes        66667  \n",
       "2  Rice, paddy        23333  "
      ]
     },
     "execution_count": 27,
     "metadata": {},
     "output_type": "execute_result"
    }
   ],
   "source": [
    "df.head(3)"
   ]
  },
  {
   "cell_type": "code",
   "execution_count": 28,
   "id": "03724702",
   "metadata": {},
   "outputs": [],
   "source": [
    "from sklearn.model_selection import train_test_split\n",
    "X_train, X_test, y_train, y_test = train_test_split(X, y, train_size=0.8, random_state=0, shuffle=True)"
   ]
  },
  {
   "cell_type": "markdown",
   "id": "08992fcd",
   "metadata": {},
   "source": [
    "# Converting Categorical to Numerical and Scaling the values"
   ]
  },
  {
   "cell_type": "code",
   "execution_count": 29,
   "id": "2fd5f6de",
   "metadata": {},
   "outputs": [],
   "source": [
    "from sklearn.preprocessing import OneHotEncoder\n",
    "from sklearn.compose import ColumnTransformer\n",
    "from sklearn.preprocessing import StandardScaler\n",
    "ohe = OneHotEncoder(drop='first')\n",
    "scale = StandardScaler()\n",
    "\n",
    "preprocesser = ColumnTransformer(\n",
    "        transformers = [\n",
    "            ('StandardScale', scale, [0, 1, 2, 3]),\n",
    "            ('OHE', ohe, [4, 5]),\n",
    "        ],\n",
    "        remainder='passthrough'\n",
    ")"
   ]
  },
  {
   "cell_type": "code",
   "execution_count": 30,
   "id": "abe8ee2d",
   "metadata": {},
   "outputs": [],
   "source": [
    "X_train_dummy = preprocesser.fit_transform(X_train)\n",
    "X_test_dummy = preprocesser.transform(X_test)"
   ]
  },
  {
   "cell_type": "code",
   "execution_count": 31,
   "id": "4bd11346",
   "metadata": {},
   "outputs": [
    {
     "data": {
      "text/plain": [
       "array(['StandardScale__Year',\n",
       "       'StandardScale__average_rain_fall_mm_per_year',\n",
       "       'StandardScale__pesticides_tonnes', 'StandardScale__avg_temp',\n",
       "       'OHE__Area_Algeria', 'OHE__Area_Angola', 'OHE__Area_Argentina',\n",
       "       'OHE__Area_Armenia', 'OHE__Area_Australia', 'OHE__Area_Austria',\n",
       "       'OHE__Area_Azerbaijan', 'OHE__Area_Bahamas', 'OHE__Area_Bahrain',\n",
       "       'OHE__Area_Bangladesh', 'OHE__Area_Belarus', 'OHE__Area_Belgium',\n",
       "       'OHE__Area_Botswana', 'OHE__Area_Brazil', 'OHE__Area_Bulgaria',\n",
       "       'OHE__Area_Burkina Faso', 'OHE__Area_Burundi',\n",
       "       'OHE__Area_Cameroon', 'OHE__Area_Canada',\n",
       "       'OHE__Area_Central African Republic', 'OHE__Area_Chile',\n",
       "       'OHE__Area_Colombia', 'OHE__Area_Croatia', 'OHE__Area_Denmark',\n",
       "       'OHE__Area_Dominican Republic', 'OHE__Area_Ecuador',\n",
       "       'OHE__Area_Egypt', 'OHE__Area_El Salvador', 'OHE__Area_Eritrea',\n",
       "       'OHE__Area_Estonia', 'OHE__Area_Finland', 'OHE__Area_France',\n",
       "       'OHE__Area_Germany', 'OHE__Area_Ghana', 'OHE__Area_Greece',\n",
       "       'OHE__Area_Guatemala', 'OHE__Area_Guinea', 'OHE__Area_Guyana',\n",
       "       'OHE__Area_Haiti', 'OHE__Area_Honduras', 'OHE__Area_Hungary',\n",
       "       'OHE__Area_India', 'OHE__Area_Indonesia', 'OHE__Area_Iraq',\n",
       "       'OHE__Area_Ireland', 'OHE__Area_Italy', 'OHE__Area_Jamaica',\n",
       "       'OHE__Area_Japan', 'OHE__Area_Kazakhstan', 'OHE__Area_Kenya',\n",
       "       'OHE__Area_Latvia', 'OHE__Area_Lebanon', 'OHE__Area_Lesotho',\n",
       "       'OHE__Area_Libya', 'OHE__Area_Lithuania', 'OHE__Area_Madagascar',\n",
       "       'OHE__Area_Malawi', 'OHE__Area_Malaysia', 'OHE__Area_Mali',\n",
       "       'OHE__Area_Mauritania', 'OHE__Area_Mauritius', 'OHE__Area_Mexico',\n",
       "       'OHE__Area_Montenegro', 'OHE__Area_Morocco',\n",
       "       'OHE__Area_Mozambique', 'OHE__Area_Namibia', 'OHE__Area_Nepal',\n",
       "       'OHE__Area_Netherlands', 'OHE__Area_New Zealand',\n",
       "       'OHE__Area_Nicaragua', 'OHE__Area_Niger', 'OHE__Area_Norway',\n",
       "       'OHE__Area_Pakistan', 'OHE__Area_Papua New Guinea',\n",
       "       'OHE__Area_Peru', 'OHE__Area_Poland', 'OHE__Area_Portugal',\n",
       "       'OHE__Area_Qatar', 'OHE__Area_Romania', 'OHE__Area_Rwanda',\n",
       "       'OHE__Area_Saudi Arabia', 'OHE__Area_Senegal',\n",
       "       'OHE__Area_Slovenia', 'OHE__Area_South Africa', 'OHE__Area_Spain',\n",
       "       'OHE__Area_Sri Lanka', 'OHE__Area_Sudan', 'OHE__Area_Suriname',\n",
       "       'OHE__Area_Sweden', 'OHE__Area_Switzerland',\n",
       "       'OHE__Area_Tajikistan', 'OHE__Area_Thailand', 'OHE__Area_Tunisia',\n",
       "       'OHE__Area_Turkey', 'OHE__Area_Uganda', 'OHE__Area_Ukraine',\n",
       "       'OHE__Area_United Kingdom', 'OHE__Area_Uruguay',\n",
       "       'OHE__Area_Zambia', 'OHE__Area_Zimbabwe', 'OHE__Item_Maize',\n",
       "       'OHE__Item_Plantains and others', 'OHE__Item_Potatoes',\n",
       "       'OHE__Item_Rice, paddy', 'OHE__Item_Sorghum', 'OHE__Item_Soybeans',\n",
       "       'OHE__Item_Sweet potatoes', 'OHE__Item_Wheat', 'OHE__Item_Yams'],\n",
       "      dtype=object)"
      ]
     },
     "execution_count": 31,
     "metadata": {},
     "output_type": "execute_result"
    }
   ],
   "source": [
    "preprocesser.get_feature_names_out(col[:-1])"
   ]
  },
  {
   "cell_type": "markdown",
   "id": "7e07a298",
   "metadata": {},
   "source": [
    "# Let's train our model"
   ]
  },
  {
   "cell_type": "code",
   "execution_count": 32,
   "id": "3320a0db",
   "metadata": {},
   "outputs": [
    {
     "name": "stdout",
     "output_type": "stream",
     "text": [
      "lr : mae : 29907.53512614917 score : 0.7473117803683427\n"
     ]
    },
    {
     "name": "stderr",
     "output_type": "stream",
     "text": [
      "C:\\Users\\naimat\\anaconda3\\lib\\site-packages\\sklearn\\linear_model\\_coordinate_descent.py:592: ConvergenceWarning: Objective did not converge. You might want to increase the number of iterations. Duality gap: 67280771830.02734, tolerance: 14848622817.505226\n",
      "  model = cd_fast.sparse_enet_coordinate_descent(\n"
     ]
    },
    {
     "name": "stdout",
     "output_type": "stream",
     "text": [
      "lss : mae : 29893.99762450549 score : 0.7473261756207235\n",
      "Rid : mae : 29864.88375663324 score : 0.7473044447803092\n",
      "Dtr : mae : 3817.598419124735 score : 0.9808630051556833\n"
     ]
    }
   ],
   "source": [
    "#linear regression\n",
    "from sklearn.linear_model import LinearRegression,Lasso,Ridge\n",
    "from sklearn.neighbors import KNeighborsRegressor\n",
    "from sklearn.tree import DecisionTreeRegressor\n",
    "from sklearn.metrics import mean_absolute_error,r2_score\n",
    "\n",
    "\n",
    "models = {\n",
    "    'lr':LinearRegression(),\n",
    "    'lss':Lasso(),\n",
    "    'Rid':Ridge(),\n",
    "    'Dtr':DecisionTreeRegressor()\n",
    "}\n",
    "for name, md in models.items():\n",
    "    md.fit(X_train_dummy,y_train)\n",
    "    y_pred = md.predict(X_test_dummy)\n",
    "    \n",
    "    print(f\"{name} : mae : {mean_absolute_error(y_test,y_pred)} score : {r2_score(y_test,y_pred)}\")"
   ]
  },
  {
   "cell_type": "markdown",
   "id": "36706933",
   "metadata": {},
   "source": [
    "# Select model"
   ]
  },
  {
   "cell_type": "code",
   "execution_count": 33,
   "id": "618d59bc",
   "metadata": {},
   "outputs": [
    {
     "data": {
      "text/plain": [
       "array([35286., 22814., 19295., ..., 16135., 34879., 77391.])"
      ]
     },
     "execution_count": 33,
     "metadata": {},
     "output_type": "execute_result"
    }
   ],
   "source": [
    "dtr = DecisionTreeRegressor()\n",
    "dtr.fit(X_train_dummy,y_train)\n",
    "dtr.predict(X_test_dummy)"
   ]
  },
  {
   "cell_type": "markdown",
   "id": "f8a5abbc",
   "metadata": {},
   "source": [
    "# Predictive System"
   ]
  },
  {
   "cell_type": "code",
   "execution_count": 34,
   "id": "1ecbabcc",
   "metadata": {},
   "outputs": [
    {
     "name": "stderr",
     "output_type": "stream",
     "text": [
      "C:\\Users\\naimat\\anaconda3\\lib\\site-packages\\sklearn\\base.py:439: UserWarning: X does not have valid feature names, but StandardScaler was fitted with feature names\n",
      "  warnings.warn(\n",
      "C:\\Users\\naimat\\anaconda3\\lib\\site-packages\\sklearn\\base.py:439: UserWarning: X does not have valid feature names, but OneHotEncoder was fitted with feature names\n",
      "  warnings.warn(\n"
     ]
    }
   ],
   "source": [
    "def prediction(Year, average_rain_fall_mm_per_year, pesticides_tonnes, avg_temp, Area, Item):\n",
    "    # Create an array of the input features\n",
    "    features = np.array([[Year, average_rain_fall_mm_per_year, pesticides_tonnes, avg_temp, Area, Item]], dtype=object)\n",
    "\n",
    "    # Transform the features using the preprocessor\n",
    "    transformed_features = preprocesser.transform(features)\n",
    "\n",
    "    # Make the prediction\n",
    "    predicted_yield = dtr.predict(transformed_features).reshape(1, -1)\n",
    "\n",
    "    return predicted_yield[0]\n",
    "\n",
    "Year = 1990\n",
    "average_rain_fall_mm_per_year =1485.0\n",
    "pesticides_tonnes = 121.00\n",
    "avg_temp = 16.37                   \n",
    "Area = 'Albania'\n",
    "Item = 'Maize'\n",
    "result = prediction(Year, average_rain_fall_mm_per_year, pesticides_tonnes, avg_temp, Area, Item)\n"
   ]
  },
  {
   "cell_type": "code",
   "execution_count": 35,
   "id": "390eb526",
   "metadata": {},
   "outputs": [
    {
     "data": {
      "text/plain": [
       "array([36613.])"
      ]
     },
     "execution_count": 35,
     "metadata": {},
     "output_type": "execute_result"
    }
   ],
   "source": [
    "result"
   ]
  },
  {
   "cell_type": "code",
   "execution_count": 36,
   "id": "87b641fa",
   "metadata": {},
   "outputs": [
    {
     "ename": "SyntaxError",
     "evalue": "invalid syntax (4022762754.py, line 1)",
     "output_type": "error",
     "traceback": [
      "\u001b[1;36m  Input \u001b[1;32mIn [36]\u001b[1;36m\u001b[0m\n\u001b[1;33m    1990\t1485.0\t121.00\t16.37\tAlbania\tMaize\t36613\u001b[0m\n\u001b[1;37m        \t^\u001b[0m\n\u001b[1;31mSyntaxError\u001b[0m\u001b[1;31m:\u001b[0m invalid syntax\n"
     ]
    }
   ],
   "source": [
    "1990\t1485.0\t121.00\t16.37\tAlbania\tMaize\t36613\n",
    "2013\t657.0\t2550.07\t19.76\tZimbabwe\tSorghum\t3066"
   ]
  },
  {
   "cell_type": "markdown",
   "id": "6e44c964",
   "metadata": {},
   "source": [
    "# Pickle Files"
   ]
  },
  {
   "cell_type": "code",
   "execution_count": 37,
   "id": "de3a49c6",
   "metadata": {},
   "outputs": [],
   "source": [
    "import pickle\n",
    "pickle.dump(dtr,open('dtr.pkl','wb'))\n",
    "pickle.dump(preprocesser,open('preprocessor.pkl','wb'))"
   ]
  },
  {
   "cell_type": "code",
   "execution_count": 38,
   "id": "3389fdb9",
   "metadata": {},
   "outputs": [
    {
     "name": "stdout",
     "output_type": "stream",
     "text": [
      "1.2.2\n"
     ]
    }
   ],
   "source": [
    "import sklearn\n",
    "print(sklearn.__version__)"
   ]
  },
  {
   "cell_type": "code",
   "execution_count": null,
   "id": "ad059bd9",
   "metadata": {},
   "outputs": [],
   "source": []
  }
 ],
 "metadata": {
  "kernelspec": {
   "display_name": "Python 3 (ipykernel)",
   "language": "python",
   "name": "python3"
  },
  "language_info": {
   "codemirror_mode": {
    "name": "ipython",
    "version": 3
   },
   "file_extension": ".py",
   "mimetype": "text/x-python",
   "name": "python",
   "nbconvert_exporter": "python",
   "pygments_lexer": "ipython3",
   "version": "3.9.12"
  }
 },
 "nbformat": 4,
 "nbformat_minor": 5
}
